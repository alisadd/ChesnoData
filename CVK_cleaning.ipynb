{
 "cells": [
  {
   "cell_type": "code",
   "execution_count": 858,
   "id": "annual-embassy",
   "metadata": {},
   "outputs": [],
   "source": [
    "import re\n",
    "import numpy as np\n",
    "import warnings\n",
    "warnings.simplefilter(action='ignore', category=FutureWarning)\n",
    "import pandas as pd"
   ]
  },
  {
   "cell_type": "markdown",
   "id": "abandoned-branch",
   "metadata": {},
   "source": [
    "### Import datasets"
   ]
  },
  {
   "cell_type": "code",
   "execution_count": 859,
   "id": "frank-merit",
   "metadata": {},
   "outputs": [],
   "source": [
    "filenames = ['./data/candidates_df.csv', './data/tvo_df.csv']\n",
    "dataframes = [pd.read_csv(df, sep='\\t') for df in filenames]\n",
    "candidates_df, tvo_df = dataframes[0], dataframes[1]"
   ]
  },
  {
   "cell_type": "markdown",
   "id": "german-gibraltar",
   "metadata": {},
   "source": [
    "### Transform Candidates dataframe"
   ]
  },
  {
   "cell_type": "code",
   "execution_count": 860,
   "id": "previous-killer",
   "metadata": {},
   "outputs": [],
   "source": [
    "# adding space between Surname and Name\n",
    "candidates_df[\"Прізвище, ім'я, по батькові\"] = candidates_df[\"Прізвище, ім'я, по батькові\"].str.replace(r'([а-яєґії])([А-ЯҐЄІЇ]+)', r'\\1 \\2', regex=True)"
   ]
  },
  {
   "cell_type": "code",
   "execution_count": 861,
   "id": "simplified-terminal",
   "metadata": {},
   "outputs": [],
   "source": [
    "# party names in uppercase\n",
    "candidates_df['Партія'] = candidates_df['Партія'].str.upper()"
   ]
  },
  {
   "cell_type": "code",
   "execution_count": 862,
   "id": "strategic-trustee",
   "metadata": {},
   "outputs": [],
   "source": [
    "# split birth and origin\n",
    "candidates_df = candidates_df.join(candidates_df['Дата та місце народження'].str.extract('(?P<Дата_народження>[\\d{2}\\.\\d{2}\\.\\d{4}]{10})(?P<Місце_народження>[\\s\\S]+)', expand=True))\n",
    "candidates_df = candidates_df.drop(columns = ['Дата та місце народження'])\n"
   ]
  },
  {
   "cell_type": "code",
   "execution_count": 863,
   "id": "demonstrated-point",
   "metadata": {},
   "outputs": [],
   "source": [
    "# delete dots after birthday\n",
    "candidates_df['Дата_народження'] = candidates_df['Дата_народження'].str.rstrip('\\.$')"
   ]
  },
  {
   "cell_type": "code",
   "execution_count": 864,
   "id": "instrumental-arthritis",
   "metadata": {},
   "outputs": [],
   "source": [
    "#changing column names\n",
    "candidates_df = candidates_df.rename(columns={'№ у терито-ріальному списку': '№ у територіальному списку', 'Дата_народження': 'Дата народження', 'Місце_народження': 'Місце народження'})"
   ]
  },
  {
   "cell_type": "code",
   "execution_count": 865,
   "id": "widespread-livestock",
   "metadata": {},
   "outputs": [],
   "source": [
    "# adding space in birthplace\n",
    "candidates_df['Місце народження'] = candidates_df['Місце народження'].str.replace(r'(\\.)([А-ЯҐЄІЇ]+)', r'\\1 \\2', regex=True)"
   ]
  },
  {
   "cell_type": "markdown",
   "id": "unable-program",
   "metadata": {},
   "source": [
    "### Transform Elected Candidates dataframe"
   ]
  },
  {
   "cell_type": "code",
   "execution_count": 866,
   "id": "prerequisite-support",
   "metadata": {},
   "outputs": [],
   "source": [
    "# changing name column in elected\n",
    "tvo_df = tvo_df.rename(columns={\"Прізвище, ім’я, по батькові\": \"Прізвище, ім'я, по батькові\"})"
   ]
  },
  {
   "cell_type": "code",
   "execution_count": 867,
   "id": "rural-holder",
   "metadata": {},
   "outputs": [],
   "source": [
    "# adding birthday column in elected\n",
    "tvo_df['Дата народження'] = tvo_df['Відомості про обраного депутата'].str.extract('(\\d{2}.\\d{2}.\\d{4})')"
   ]
  },
  {
   "cell_type": "markdown",
   "id": "realistic-doubt",
   "metadata": {},
   "source": [
    "### Merge Candidates and Elected dfs"
   ]
  },
  {
   "cell_type": "code",
   "execution_count": 868,
   "id": "middle-infrastructure",
   "metadata": {},
   "outputs": [],
   "source": [
    "# merge two columns based on name, TVO, birthday\n",
    "new_df = candidates_df.merge(tvo_df,how='left', left_on=[\"Прізвище, ім'я, по батькові\", \"№ ТВО, за яким закріплено\", \"Дата народження\"], right_on=[\"Прізвище, ім'я, по батькові\", \"№ ТВО, за яким закріплено\", \"Дата народження\"])"
   ]
  },
  {
   "cell_type": "code",
   "execution_count": 869,
   "id": "opposed-cover",
   "metadata": {},
   "outputs": [],
   "source": [
    "# drop columns with duplicate information\n",
    "new_df = new_df.drop(columns = [\"Відомості про обраного депутата\", \"Голосів ЗА\", \"% від квоти\"])"
   ]
  },
  {
   "cell_type": "markdown",
   "id": "tight-immune",
   "metadata": {},
   "source": [
    "### Add 'Status' column"
   ]
  },
  {
   "cell_type": "code",
   "execution_count": 870,
   "id": "discrete-portsmouth",
   "metadata": {},
   "outputs": [],
   "source": [
    "# New column based on the election status\n",
    "tvo_df['Виборчий округ, в якому обрано'].isnull().values.any()\n",
    "new_df['Статус'] = new_df[\"Виборчий округ, в якому обрано\"].isna().apply(lambda x: \"обрано\" if x==0 else 'не обрано')"
   ]
  },
  {
   "cell_type": "markdown",
   "id": "practical-habitat",
   "metadata": {},
   "source": [
    "### Clean joined table"
   ]
  },
  {
   "cell_type": "code",
   "execution_count": 871,
   "id": "roman-pastor",
   "metadata": {},
   "outputs": [],
   "source": [
    "# remove dots in the beginning of birthplace\n",
    "new_df['Місце народження'] = new_df['Місце народження'].str.lstrip('^.')"
   ]
  },
  {
   "cell_type": "code",
   "execution_count": 872,
   "id": "emotional-appraisal",
   "metadata": {},
   "outputs": [],
   "source": [
    "# standardize region pattern\n",
    "region_pattern = '|'.join([' айо', ' бл.', ' області', ' область', 'обл'])\n",
    "new_df['Місце народження'] = new_df['Місце народження'].str.replace(region_pattern, ' обл.')"
   ]
  },
  {
   "cell_type": "code",
   "execution_count": 873,
   "id": "whole-warner",
   "metadata": {},
   "outputs": [],
   "source": [
    "# remove multiple dots\n",
    "new_df['Місце народження'] = new_df['Місце народження'].str.replace('[.]{2,}', '.')"
   ]
  },
  {
   "cell_type": "code",
   "execution_count": 874,
   "id": "english-parks",
   "metadata": {},
   "outputs": [],
   "source": [
    "# reindex dataframe\n",
    "column_names = [\"Прізвище, ім'я, по батькові\", 'Дата народження', 'Місце народження', 'Відомості', 'Партія','Область', 'Міська рада', '№ у єдиному списку', '№ ТВО, за яким закріплено', '№ у територіальному списку', 'Кількість отриманих голосів', '% голосів від квоти', 'Черговість кандидата за результатами','Статус', 'Виборчий округ, в якому обрано']\n",
    "new_df = new_df.reindex(columns = column_names)"
   ]
  },
  {
   "cell_type": "markdown",
   "id": "incomplete-search",
   "metadata": {},
   "source": [
    "### Save dataframe"
   ]
  },
  {
   "cell_type": "code",
   "execution_count": 875,
   "id": "hidden-integration",
   "metadata": {},
   "outputs": [],
   "source": [
    "# save output\n",
    "new_df.to_csv(\"./data/Joined_table.csv\", sep='\\t', index=False)"
   ]
  }
 ],
 "metadata": {
  "kernelspec": {
   "display_name": "Python 3",
   "language": "python",
   "name": "python3"
  },
  "language_info": {
   "codemirror_mode": {
    "name": "ipython",
    "version": 3
   },
   "file_extension": ".py",
   "mimetype": "text/x-python",
   "name": "python",
   "nbconvert_exporter": "python",
   "pygments_lexer": "ipython3",
   "version": "3.9.1"
  }
 },
 "nbformat": 4,
 "nbformat_minor": 5
}
