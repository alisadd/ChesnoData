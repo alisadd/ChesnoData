{
 "cells": [
  {
   "cell_type": "code",
   "execution_count": 229,
   "metadata": {},
   "outputs": [],
   "source": [
    "import requests\n",
    "from bs4 import BeautifulSoup\n",
    "import lxml\n",
    "import re\n",
    "import pandas as pd\n",
    "import numpy as np"
   ]
  },
  {
   "cell_type": "code",
   "execution_count": 230,
   "metadata": {},
   "outputs": [],
   "source": [
    "# encoding: UTF-8"
   ]
  },
  {
   "cell_type": "markdown",
   "metadata": {},
   "source": [
    "## Variables"
   ]
  },
  {
   "cell_type": "markdown",
   "metadata": {},
   "source": [
    "### Set starting URLs"
   ]
  },
  {
   "cell_type": "code",
   "execution_count": 231,
   "metadata": {},
   "outputs": [],
   "source": [
    "candidates_url = 'https://www.cvk.gov.ua/pls/vm2020/pvm008pt001f01=695pt00_t001f01=695.html'\n",
    "elected_url = 'https://www.cvk.gov.ua/pls/vm2020/pvm002pt001f01=695pt00_t001f01=695.html'"
   ]
  },
  {
   "cell_type": "markdown",
   "metadata": {},
   "source": [
    "### Set city council URL"
   ]
  },
  {
   "cell_type": "code",
   "execution_count": 233,
   "metadata": {},
   "outputs": [],
   "source": [
    "url_councils = 'https://www.cvk.gov.ua/pls/vm2020/'\n",
    "\n",
    "bvo_urls = ['https://www.cvk.gov.ua/pls/vm2020/pvm057pid112=30pid102=12259pf7691=64406pt001f01=695rej=0pt00_t001f01=695.html', 'https://www.cvk.gov.ua/pls/vm2020/pvm057pid112=30pid102=479pf7691=64420pt001f01=695rej=0pt00_t001f01=695.html', 'https://www.cvk.gov.ua/pls/vm2020/pvm057pid112=30pid102=4048pf7691=63909pt001f01=695rej=0pt00_t001f01=695.html']"
   ]
  },
  {
   "cell_type": "markdown",
   "metadata": {},
   "source": [
    "### Select regions for parsing"
   ]
  },
  {
   "cell_type": "code",
   "execution_count": 234,
   "metadata": {},
   "outputs": [],
   "source": [
    "regions = '0:3'"
   ]
  },
  {
   "cell_type": "markdown",
   "metadata": {},
   "source": [
    "## Functions"
   ]
  },
  {
   "cell_type": "code",
   "execution_count": 235,
   "metadata": {},
   "outputs": [],
   "source": [
    "def get_region_urls(starting_page):\n",
    "    '''\n",
    "    Function returns list of councils in all regions\n",
    "    '''\n",
    "    councils = []\n",
    "    source = requests.get(starting_page)\n",
    "    soup = BeautifulSoup(source.content, 'lxml')\n",
    "    table = soup.find_all('table', attrs={'class':'t2'})[1].find('tbody')\n",
    "    rows = table.find_all('tr')\n",
    "    if starting_page == candidates_url:\n",
    "        for row in rows:\n",
    "            try:\n",
    "                city_cols = row.find('a', class_='a1')['href']\n",
    "                councils.append(url_councils+city_cols)\n",
    "            except TypeError:\n",
    "                continue\n",
    "    elif starting_page == elected_url:\n",
    "        for row in rows:\n",
    "            try:\n",
    "                city_cols = row.find_all('a')[2]['href']\n",
    "                councils.append(url_councils+city_cols)\n",
    "            except IndexError:\n",
    "                continue\n",
    "    return councils"
   ]
  },
  {
   "cell_type": "code",
   "execution_count": 236,
   "metadata": {},
   "outputs": [],
   "source": [
    "def get_councils_url(council):\n",
    "    '''\n",
    "    Function selects regions and returns links to city councils\n",
    "    '''\n",
    "    s = slice(*map(int, regions.split(':')))\n",
    "    council_links = council[s]\n",
    "    candidates = []\n",
    "    for oblast in council_links:\n",
    "        obl_url = requests.get(oblast)\n",
    "        obl_soup = BeautifulSoup(obl_url.content, 'lxml')\n",
    "        for i in obl_soup.find_all('a', class_='a1'):\n",
    "            candidates.append(url_councils+i['href'])\n",
    "    return candidates"
   ]
  },
  {
   "cell_type": "code",
   "execution_count": 237,
   "metadata": {},
   "outputs": [],
   "source": [
    "def get_candidates_df():\n",
    "    '''\n",
    "    Function returns dataframe with info about candidates with additional columns about their party,\n",
    "    region and council.\n",
    "    '''\n",
    "    candidate_dfs = []\n",
    "    for council_url in candidates:\n",
    "        dfs = pd.read_html(council_url, header=0)\n",
    "        n_candidates = dfs[3]\n",
    "        party = np.repeat(n_candidates['Партія'], n_candidates['Кількість кандидатів у списку']).tolist()\n",
    "        candidate_df = dfs[4]\n",
    "        candidate_df = candidate_df[~candidate_df['№ ТВО, за яким закріплено'].str.contains(r'[^0-9 Перший кандидат]', regex=True, case=False)].reset_index(drop=True)\n",
    "        vinn = requests.get(council_url)\n",
    "        vinn_soup = BeautifulSoup(vinn.content, 'lxml')\n",
    "        location = vinn_soup.find('p', class_='p2').contents\n",
    "        oblast = location[0]\n",
    "        council = location[2]\n",
    "        candidate_df['Партія'] = party\n",
    "        candidate_df['Область'] = oblast\n",
    "        candidate_df['Міська рада'] = council\n",
    "        candidate_dfs.append(candidate_df)\n",
    "    candidate_dfs = pd.concat(candidate_dfs).reset_index(drop=True)\n",
    "    return candidate_dfs"
   ]
  },
  {
   "cell_type": "code",
   "execution_count": 238,
   "metadata": {},
   "outputs": [],
   "source": [
    "def get_elected_df():\n",
    "    '''\n",
    "    Function returns dataframes with info about elected candidates from TVO\n",
    "    '''\n",
    "    tvo_dfs = []\n",
    "    for council_url in elected:\n",
    "        elected_dfs = pd.read_html(council_url, header=0)\n",
    "        elected_df = elected_dfs[5]\n",
    "        elected_df = elected_df[~elected_df['№ ТВО, за яким закріплено'].str.contains(r'[^0-9 Перший кандидат]', regex=True, case=False)].reset_index(drop=True)\n",
    "        tvo_dfs.append(elected_df)\n",
    "    final_tvo_dfs = pd.concat(tvo_dfs).reset_index(drop=True)\n",
    "    return final_tvo_dfs"
   ]
  },
  {
   "cell_type": "markdown",
   "metadata": {},
   "source": [
    "## Starting parser"
   ]
  },
  {
   "cell_type": "code",
   "execution_count": 239,
   "metadata": {},
   "outputs": [],
   "source": [
    "candidate_councils = get_region_urls(candidates_url)\n",
    "elected_councils = get_region_urls(elected_url)"
   ]
  },
  {
   "cell_type": "code",
   "execution_count": 240,
   "metadata": {},
   "outputs": [],
   "source": [
    "candidates = get_councils_url(candidate_councils)\n",
    "elected = get_councils_url(elected_councils)\n",
    "elected = [x for x in elected if x not in bvo_urls]"
   ]
  },
  {
   "cell_type": "markdown",
   "metadata": {},
   "source": [
    "## Saving dataframes to csv"
   ]
  },
  {
   "cell_type": "code",
   "execution_count": 241,
   "metadata": {},
   "outputs": [],
   "source": [
    "get_candidates_df().to_csv('./data/candidates_df.csv', sep ='\\t', index=False)\n",
    "get_elected_df().to_csv('./data/tvo_df.csv', sep='\\t', index=False)"
   ]
  }
 ],
 "metadata": {
  "kernelspec": {
   "display_name": "Python 3",
   "language": "python",
   "name": "python3"
  },
  "language_info": {
   "codemirror_mode": {
    "name": "ipython",
    "version": 3
   },
   "file_extension": ".py",
   "mimetype": "text/x-python",
   "name": "python",
   "nbconvert_exporter": "python",
   "pygments_lexer": "ipython3",
   "version": "3.9.1"
  }
 },
 "nbformat": 4,
 "nbformat_minor": 4
}
