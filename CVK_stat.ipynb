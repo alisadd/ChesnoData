{
 "cells": [
  {
   "cell_type": "code",
   "execution_count": 180,
   "id": "severe-universal",
   "metadata": {},
   "outputs": [],
   "source": [
    "import pandas as pd\n",
    "import numpy as np"
   ]
  },
  {
   "cell_type": "code",
   "execution_count": 181,
   "id": "analyzed-values",
   "metadata": {},
   "outputs": [],
   "source": [
    "df = pd.read_csv(\"./data/Об'єднана_таблиця.csv\", sep='\\t')"
   ]
  },
  {
   "cell_type": "code",
   "execution_count": 182,
   "id": "crazy-fantasy",
   "metadata": {},
   "outputs": [],
   "source": [
    "# list of regions\n",
    "regions = ['Вінницька область', 'Волинська область','Дніпропетровська область']"
   ]
  },
  {
   "cell_type": "markdown",
   "id": "acceptable-intersection",
   "metadata": {},
   "source": [
    "### Count candidates by party and council"
   ]
  },
  {
   "cell_type": "code",
   "execution_count": 183,
   "id": "average-grenada",
   "metadata": {},
   "outputs": [],
   "source": [
    "def get_candidates_stat(df, region, elected = False):\n",
    "    '''\n",
    "    Function to get pivot table of number of candidates/elected candidates from parties in city councils.\n",
    "    '''\n",
    "    obl = region\n",
    "    header = 'Кількість кандидатів'\n",
    "    if elected == False:\n",
    "        pivot_df = pd.pivot_table(df[df['Область'] == obl], index=\"Партія\", columns=\"Міська рада\", values='Статус', aggfunc=len, fill_value=0)\n",
    "    elif elected == True:\n",
    "        pivot_df = pd.pivot_table(df[df['Область'] == obl], index=\"Партія\", columns=\"Міська рада\", values='Статус', aggfunc=lambda x:(x=='обрано').sum(), fill_value=0)\n",
    "        header = 'Кількість обраних кандидатів'\n",
    "    pivot_df.columns = pd.MultiIndex.from_tuples(zip([header]*len(pivot_df.columns), pivot_df.columns))\n",
    "    return pivot_df"
   ]
  },
  {
   "cell_type": "code",
   "execution_count": 184,
   "id": "thick-bathroom",
   "metadata": {},
   "outputs": [],
   "source": [
    "# count all candidates\n",
    "vinn_cand, vol_cand, dnipr_cand = [get_candidates_stat(df, i) for i in regions]"
   ]
  },
  {
   "cell_type": "code",
   "execution_count": 185,
   "id": "accepting-walter",
   "metadata": {},
   "outputs": [],
   "source": [
    "# count elected candidates\n",
    "vinn_elect, vol_elect, dnipr_elect = [get_candidates_stat(df, i, elected=True) for i in regions]"
   ]
  },
  {
   "cell_type": "markdown",
   "id": "loose-harassment",
   "metadata": {},
   "source": [
    "### Merge all candidates and elected candidates dfs"
   ]
  },
  {
   "cell_type": "code",
   "execution_count": 186,
   "id": "dirty-charles",
   "metadata": {},
   "outputs": [],
   "source": [
    "counted_lst = [[vinn_cand, vinn_elect], [vol_cand, vol_elect], [dnipr_cand, dnipr_elect]]\n",
    "vinn_joined, vol_joined, dnipr_joined = [i.merge(j, how='left', left_on='Партія', right_on='Партія') for (i, j) in counted_lst]"
   ]
  },
  {
   "cell_type": "markdown",
   "id": "approximate-resolution",
   "metadata": {},
   "source": [
    "### Save output"
   ]
  },
  {
   "cell_type": "code",
   "execution_count": 187,
   "id": "adaptive-collapse",
   "metadata": {},
   "outputs": [],
   "source": [
    "vinn_joined.to_csv('./data/Вінницька_область_дані.csv')\n",
    "vol_joined.to_csv('./data/Волинська_область_дані.csv')\n",
    "dnipr_joined.to_csv('./data/Дніпропетровська_область_дані.csv')"
   ]
  }
 ],
 "metadata": {
  "kernelspec": {
   "display_name": "Python 3",
   "language": "python",
   "name": "python3"
  },
  "language_info": {
   "codemirror_mode": {
    "name": "ipython",
    "version": 3
   },
   "file_extension": ".py",
   "mimetype": "text/x-python",
   "name": "python",
   "nbconvert_exporter": "python",
   "pygments_lexer": "ipython3",
   "version": "3.9.1"
  }
 },
 "nbformat": 4,
 "nbformat_minor": 5
}
