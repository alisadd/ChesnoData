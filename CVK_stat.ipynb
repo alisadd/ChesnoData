{
 "cells": [
  {
   "cell_type": "code",
   "execution_count": 2,
   "id": "severe-universal",
   "metadata": {},
   "outputs": [],
   "source": [
    "import pandas as pd\n",
    "import numpy as np"
   ]
  },
  {
   "cell_type": "code",
   "execution_count": 3,
   "id": "analyzed-values",
   "metadata": {},
   "outputs": [],
   "source": [
    "df = pd.read_csv(\"./data/Joined_table.csv\", sep='\\t')"
   ]
  },
  {
   "cell_type": "code",
   "execution_count": 4,
   "id": "crazy-fantasy",
   "metadata": {},
   "outputs": [],
   "source": [
    "# list of regions\n",
    "regions = ['Вінницька область', 'Волинська область','Дніпропетровська область']"
   ]
  },
  {
   "cell_type": "markdown",
   "id": "acceptable-intersection",
   "metadata": {},
   "source": [
    "### Count candidates by party and council"
   ]
  },
  {
   "cell_type": "code",
   "execution_count": 5,
   "id": "average-grenada",
   "metadata": {},
   "outputs": [],
   "source": [
    "def get_candidates_stat_wide(df, region, elected = False):\n",
    "    '''\n",
    "    Function to get pivot table of number of candidates/elected candidates from parties in city councils.\n",
    "    City councils as columns.\n",
    "    '''\n",
    "    obl = region\n",
    "    header = 'Кількість кандидатів'\n",
    "    if elected:\n",
    "        wide_df = pd.pivot_table(df[df['Область'] == obl], index=\"Партія\", columns=\"Міська рада\", values='Статус', aggfunc=len, fill_value=0)\n",
    "    else:\n",
    "        wide_df = pd.pivot_table(df[df['Область'] == obl], index=\"Партія\", columns=\"Міська рада\", values='Статус', aggfunc=lambda x:(x=='обрано').sum(), fill_value=0)\n",
    "        header = 'Кількість обраних кандидатів'\n",
    "    wide_df.columns = pd.MultiIndex.from_tuples(zip([header]*len(wide_df.columns), wide_df.columns))\n",
    "    return wide_df"
   ]
  },
  {
   "cell_type": "code",
   "execution_count": 6,
   "id": "opposed-rhythm",
   "metadata": {},
   "outputs": [],
   "source": [
    "def get_candidates_stat_long(df, region):\n",
    "    '''\n",
    "    Function to get pivot table of number of candidates from parties in city councils.\n",
    "    Election status as columns.\n",
    "    '''\n",
    "    df = df.fillna(0)\n",
    "    long_df = pd.pivot_table(df[['Партія', 'Область', 'Статус', 'Міська рада']][df['Область'] == region], index=['Партія', 'Міська рада'], columns='Статус', aggfunc=len, margins=True)\n",
    "    long_df.columns = long_df.columns.droplevel(0)\n",
    "    col_names = ['Кандидати', 'Обрано', 'Не обрано']\n",
    "    long_df = long_df.rename(columns={'не обрано': 'Не обрано', 'обрано': 'Обрано', 'All': 'Кандидати'}).reindex(columns = col_names)\n",
    "    return long_df.fillna(0).astype(int)"
   ]
  },
  {
   "cell_type": "code",
   "execution_count": 7,
   "id": "thick-bathroom",
   "metadata": {},
   "outputs": [],
   "source": [
    "vinn_cand, vol_cand, dnipr_cand = [get_candidates_stat_long(df, i) for i in regions]"
   ]
  },
  {
   "cell_type": "markdown",
   "id": "approximate-resolution",
   "metadata": {},
   "source": [
    "### Save output"
   ]
  },
  {
   "cell_type": "code",
   "execution_count": 8,
   "id": "adaptive-collapse",
   "metadata": {},
   "outputs": [],
   "source": [
    "vinn_cand.to_csv('./data/Vinnitsa_data.csv')\n",
    "vol_cand.to_csv('./data/Volyn_data.csv')\n",
    "dnipr_cand.to_csv('./data/Dnipro_data.csv')"
   ]
  }
 ],
 "metadata": {
  "kernelspec": {
   "display_name": "Python 3",
   "language": "python",
   "name": "python3"
  },
  "language_info": {
   "codemirror_mode": {
    "name": "ipython",
    "version": 3
   },
   "file_extension": ".py",
   "mimetype": "text/x-python",
   "name": "python",
   "nbconvert_exporter": "python",
   "pygments_lexer": "ipython3",
   "version": "3.9.1"
  }
 },
 "nbformat": 4,
 "nbformat_minor": 5
}
